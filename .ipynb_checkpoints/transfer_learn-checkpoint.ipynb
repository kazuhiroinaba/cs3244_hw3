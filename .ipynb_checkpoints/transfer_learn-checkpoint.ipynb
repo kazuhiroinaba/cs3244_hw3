{
 "cells": [
  {
   "cell_type": "code",
   "execution_count": 19,
   "metadata": {
    "inputHidden": false,
    "outputHidden": false
   },
   "outputs": [],
   "source": [
    "import numpy as np\n",
    "import torch\n",
    "import torch.nn as nn\n",
    "import torch.optim as optim\n",
    "from torch.optim import lr_scheduler\n",
    "from torch.autograd import Variable\n",
    "import torchvision\n",
    "from torchvision import datasets, models, transforms, utils\n",
    "import matplotlib.pyplot as plt\n",
    "import time\n",
    "from torch.utils.data import Dataset, DataLoader\n",
    "from sklearn.model_selection import train_test_split\n",
    "from PIL import Image\n",
    "\n",
    "plt.ion()   # interactive mode\n"
   ]
  },
  {
   "cell_type": "code",
   "execution_count": 20,
   "metadata": {
    "inputHidden": false,
    "outputHidden": false
   },
   "outputs": [],
   "source": [
    "full_mean = 132.35524/255\n",
    "full_std = 44.076332/255"
   ]
  },
  {
   "cell_type": "code",
   "execution_count": 21,
   "metadata": {
    "inputHidden": false,
    "outputHidden": false
   },
   "outputs": [],
   "source": [
    "class FacesDataset(Dataset):\n",
    "    \"\"\"Faces dataset.\"\"\"\n",
    "\n",
    "    def __init__(self, X, y, transform=None):\n",
    "        self.image_vectors = X\n",
    "        self.targets = y\n",
    "        self.transform = transform\n",
    "\n",
    "    def __len__(self):\n",
    "        return len(self.image_vectors)\n",
    "\n",
    "    def __getitem__(self, idx):\n",
    "\n",
    "        one_dim_avg = self.image_vectors[idx]\n",
    "        one_dim_image = np.reshape(one_dim_avg, (50, 37)).astype('uint8')\n",
    "        im = Image.fromarray(one_dim_image)\n",
    "        imrgb = Image.merge('RGB', (im, im, im))\n",
    "\n",
    "        if self.transform:\n",
    "            imrgb = self.transform(imrgb)\n",
    "\n",
    "        return (imrgb, self.targets[idx])\n"
   ]
  },
  {
   "cell_type": "code",
   "execution_count": 22,
   "metadata": {
    "inputHidden": false,
    "outputHidden": false
   },
   "outputs": [],
   "source": [
    "# too: add more transforms later\n",
    "data_transforms = {\n",
    "    'train': transforms.Compose([\n",
    "        transforms.Scale(224),\n",
    "        transforms.RandomHorizontalFlip(),\n",
    "        transforms.ToTensor(),\n",
    "        transforms.Normalize(mean=[full_mean, full_mean, full_mean],\n",
    "                             std=[full_std, full_std, full_std])\n",
    "    ]),\n",
    "    'val': transforms.Compose([\n",
    "        transforms.Scale(224),\n",
    "        transforms.ToTensor(),\n",
    "        transforms.Normalize(mean=[full_mean, full_mean, full_mean],\n",
    "                             std=[full_std, full_std, full_std])\n",
    "    ]),\n",
    "}"
   ]
  },
  {
   "cell_type": "code",
   "execution_count": 23,
   "metadata": {
    "inputHidden": false,
    "outputHidden": false
   },
   "outputs": [],
   "source": [
    "\n",
    "# %% loading the raw data\n",
    "X_train_raw = np.load('X_train.npy')\n",
    "y_train_raw = np.load('y_train.npy')\n",
    "\n",
    "X_train, X_val, y_train, y_val = train_test_split(X_train_raw,\n",
    "                                                  y_train_raw,\n",
    "                                                  random_state=1)\n",
    "\n",
    "faces_datasets = {\n",
    "    'train': FacesDataset(X_train, y_train,\n",
    "                          transform=data_transforms['train']),\n",
    "    'val': FacesDataset(X_val, y_val, transform=data_transforms['val'])\n",
    "}\n",
    "\n",
    "dataloaders = {x: DataLoader(faces_datasets[x], batch_size=4,\n",
    "                             shuffle=True, num_workers=4)\n",
    "               for x in ['train', 'val']}\n",
    "\n",
    "dataset_sizes = {x: len(faces_datasets[x]) for x in ['train', 'val']}\n",
    "use_gpu = torch.cuda.is_available()\n"
   ]
  },
  {
   "cell_type": "code",
   "execution_count": 24,
   "metadata": {
    "inputHidden": false,
    "outputHidden": false
   },
   "outputs": [],
   "source": [
    "def train_model(model, criterion, optimizer, scheduler, num_epochs=25):\n",
    "    since = time.time()\n",
    "\n",
    "    best_model_wts = model.state_dict()\n",
    "    best_acc = 0.0\n",
    "\n",
    "    for epoch in range(num_epochs):\n",
    "        print('Epoch {}/{}'.format(epoch, num_epochs - 1))\n",
    "        print('-' * 10)\n",
    "\n",
    "        for phase in ['train', 'val']:\n",
    "            if phase == 'train':\n",
    "                scheduler.step()\n",
    "                model.train(True)\n",
    "            else:\n",
    "                model.train(False)\n",
    "\n",
    "            running_loss = 0.0\n",
    "            running_corrects = 0\n",
    "\n",
    "            for data in dataloaders[phase]:\n",
    "                inputs, labels = data\n",
    "\n",
    "                if use_gpu:\n",
    "                    inputs = Variable(inputs.cuda())\n",
    "                    labels = Variable(labels.cuda())\n",
    "                else:\n",
    "                    inputs, labels = Variable(inputs), Variable(labels)\n",
    "\n",
    "                optimizer.zero_grad()\n",
    "\n",
    "                # forward\n",
    "                outputs = model(inputs)\n",
    "                _, preds = torch.max(outputs.data, 1)\n",
    "                loss = criterion(outputs, labels)\n",
    "\n",
    "                if phase == 'train':\n",
    "                    loss.backward()\n",
    "                    optimizer.step()\n",
    "\n",
    "                running_loss += loss.data[0]\n",
    "                running_corrects += torch.sum(preds == labels.data)\n",
    "\n",
    "            epoch_loss = running_loss / dataset_sizes[phase]\n",
    "            epoch_acc = running_corrects / dataset_sizes[phase]\n",
    "\n",
    "            print('{} Loss: {:.4f} Acc: {:.4f}'.format(\n",
    "                    phase, epoch_loss, epoch_acc))\n",
    "\n",
    "            if phase == 'val' and epoch_acc > best_acc:\n",
    "                best_acc = epoch_acc\n",
    "                best_model_wts = model.state_dict()\n",
    "\n",
    "        print()\n",
    "    time_elasped = time.time() - since\n",
    "    print('Training complete in {:.0f}m {:.0f}s'.format(\n",
    "            time_elasped // 60, time_elasped % 60))\n",
    "    print('Best val Acc: {:4f}'.format(best_acc))\n",
    "\n",
    "    model.load_state_dict(best_model_wts)\n",
    "    return model\n"
   ]
  },
  {
   "cell_type": "code",
   "execution_count": 25,
   "metadata": {
    "inputHidden": false,
    "outputHidden": false
   },
   "outputs": [],
   "source": [
    "def imshow(inp, title=None):\n",
    "    \"\"\"Imshow for Tensor.\"\"\"\n",
    "    inp = inp.numpy().transpose((1, 2, 0))\n",
    "    mean = np.array([full_mean, full_mean, full_mean])\n",
    "    std = np.array([full_std, full_std, full_std])\n",
    "    inp = std * inp + mean\n",
    "    inp = np.clip(inp, 0, 1)\n",
    "    plt.imshow(inp)\n",
    "    if title is not None:\n",
    "        plt.title(title)\n",
    "    plt.pause(0.001)  # pause a bit so that plots are updated\n"
   ]
  },
  {
   "cell_type": "code",
   "execution_count": 26,
   "metadata": {
    "inputHidden": false,
    "outputHidden": false
   },
   "outputs": [],
   "source": [
    "def visualize_model(model, num_images=6):\n",
    "    images_so_far = 0\n",
    "    fig = plt.figure()\n",
    "\n",
    "    for i, data in enumerate(dataloaders['val']):\n",
    "        inputs, labels = data\n",
    "        if use_gpu:\n",
    "            inputs, labels = Variable(inputs.cuda()), Variable(labels.cuda())\n",
    "        else:\n",
    "            inputs, labels = Variable(inputs), Variable(labels)\n",
    "\n",
    "        outputs = model(inputs)\n",
    "        _, preds = torch.max(outputs.data, 1)\n",
    "\n",
    "        for j in range(inputs.size()[0]):\n",
    "            images_so_far += 1\n",
    "            ax = plt.subplot(num_images//2, 2, images_so_far)\n",
    "            ax.axis('off')\n",
    "            ax.set_title('predicted: {}'.format(preds[j]))\n",
    "            imshow(inputs.cpu().data[j])\n",
    "\n",
    "            if images_so_far == num_images:\n",
    "                return\n"
   ]
  },
  {
   "cell_type": "code",
   "execution_count": 27,
   "metadata": {
    "inputHidden": false,
    "outputHidden": false
   },
   "outputs": [
    {
     "name": "stdout",
     "output_type": "stream",
     "text": [
      "Epoch 0/24\n",
      "----------\n",
      "train Loss: 0.2847 Acc: 0.6133\n",
      "val Loss: 0.1338 Acc: 0.8017\n",
      "\n",
      "Epoch 1/24\n",
      "----------\n",
      "train Loss: 0.0935 Acc: 0.8867\n",
      "val Loss: 0.0336 Acc: 0.9504\n",
      "\n",
      "Epoch 2/24\n",
      "----------\n",
      "train Loss: 0.0343 Acc: 0.9655\n",
      "val Loss: 0.0174 Acc: 0.9835\n",
      "\n",
      "Epoch 3/24\n",
      "----------\n",
      "train Loss: 0.0124 Acc: 0.9917\n",
      "val Loss: 0.0123 Acc: 0.9876\n",
      "\n",
      "Epoch 4/24\n",
      "----------\n",
      "train Loss: 0.0072 Acc: 0.9972\n",
      "val Loss: 0.0118 Acc: 0.9793\n",
      "\n",
      "Epoch 5/24\n",
      "----------\n",
      "train Loss: 0.0075 Acc: 0.9917\n",
      "val Loss: 0.0224 Acc: 0.9669\n",
      "\n",
      "Epoch 6/24\n",
      "----------\n",
      "train Loss: 0.0073 Acc: 0.9903\n",
      "val Loss: 0.0165 Acc: 0.9669\n",
      "\n",
      "Epoch 7/24\n",
      "----------\n",
      "train Loss: 0.0042 Acc: 0.9959\n",
      "val Loss: 0.0116 Acc: 0.9835\n",
      "\n",
      "Epoch 8/24\n",
      "----------\n",
      "train Loss: 0.0047 Acc: 0.9972\n",
      "val Loss: 0.0117 Acc: 0.9835\n",
      "\n",
      "Epoch 9/24\n",
      "----------\n",
      "train Loss: 0.0024 Acc: 1.0000\n",
      "val Loss: 0.0131 Acc: 0.9793\n",
      "\n",
      "Epoch 10/24\n",
      "----------\n",
      "train Loss: 0.0023 Acc: 1.0000\n",
      "val Loss: 0.0127 Acc: 0.9793\n",
      "\n",
      "Epoch 11/24\n",
      "----------\n",
      "train Loss: 0.0029 Acc: 0.9972\n",
      "val Loss: 0.0123 Acc: 0.9835\n",
      "\n",
      "Epoch 12/24\n",
      "----------\n",
      "train Loss: 0.0024 Acc: 1.0000\n",
      "val Loss: 0.0112 Acc: 0.9876\n",
      "\n",
      "Epoch 13/24\n",
      "----------\n",
      "train Loss: 0.0029 Acc: 0.9972\n",
      "val Loss: 0.0153 Acc: 0.9835\n",
      "\n",
      "Epoch 14/24\n",
      "----------\n",
      "train Loss: 0.0016 Acc: 1.0000\n",
      "val Loss: 0.0118 Acc: 0.9876\n",
      "\n",
      "Epoch 15/24\n",
      "----------\n",
      "train Loss: 0.0020 Acc: 1.0000\n",
      "val Loss: 0.0132 Acc: 0.9876\n",
      "\n",
      "Epoch 16/24\n",
      "----------\n",
      "train Loss: 0.0016 Acc: 1.0000\n",
      "val Loss: 0.0141 Acc: 0.9793\n",
      "\n",
      "Epoch 17/24\n",
      "----------\n",
      "train Loss: 0.0034 Acc: 0.9959\n",
      "val Loss: 0.0152 Acc: 0.9752\n",
      "\n",
      "Epoch 18/24\n",
      "----------\n",
      "train Loss: 0.0018 Acc: 1.0000\n",
      "val Loss: 0.0138 Acc: 0.9835\n",
      "\n",
      "Epoch 19/24\n",
      "----------\n",
      "train Loss: 0.0030 Acc: 0.9986\n",
      "val Loss: 0.0119 Acc: 0.9876\n",
      "\n",
      "Epoch 20/24\n",
      "----------\n",
      "train Loss: 0.0020 Acc: 1.0000\n",
      "val Loss: 0.0124 Acc: 0.9876\n",
      "\n",
      "Epoch 21/24\n",
      "----------\n",
      "train Loss: 0.0015 Acc: 1.0000\n",
      "val Loss: 0.0150 Acc: 0.9793\n",
      "\n",
      "Epoch 22/24\n",
      "----------\n",
      "train Loss: 0.0021 Acc: 1.0000\n",
      "val Loss: 0.0145 Acc: 0.9835\n",
      "\n",
      "Epoch 23/24\n",
      "----------\n",
      "train Loss: 0.0018 Acc: 1.0000\n",
      "val Loss: 0.0129 Acc: 0.9835\n",
      "\n",
      "Epoch 24/24\n",
      "----------\n",
      "train Loss: 0.0026 Acc: 0.9986\n",
      "val Loss: 0.0144 Acc: 0.9876\n",
      "\n",
      "Training complete in 113m 7s\n",
      "Best val Acc: 0.987603\n"
     ]
    },
    {
     "data": {
      "image/png": "[encoded data removed]",
      "text/plain": [
       "<matplotlib.figure.Figure at 0x1a0e91ea58>"
      ]
     },
     "metadata": {},
     "output_type": "display_data"
    },
    {
     "data": {
      "image/png": "[encoded data removed]",
      "text/plain": [
       "<matplotlib.figure.Figure at 0x1a11804438>"
      ]
     },
     "metadata": {},
     "output_type": "display_data"
    },
    {
     "data": {
      "image/png": "[encoded data removed]",
      "text/plain": [
       "<matplotlib.figure.Figure at 0x1a0e9def98>"
      ]
     },
     "metadata": {},
     "output_type": "display_data"
    },
    {
     "data": {
      "image/png": "[encoded data removed]",
      "text/plain": [
       "<matplotlib.figure.Figure at 0x1a1114d518>"
      ]
     },
     "metadata": {},
     "output_type": "display_data"
    },
    {
     "data": {
      "image/png": "[encoded data removed]",
      "text/plain": [
       "<matplotlib.figure.Figure at 0x1a0db16cf8>"
      ]
     },
     "metadata": {},
     "output_type": "display_data"
    },
    {
     "data": {
      "image/png": "[encoded data removed]",
      "text/plain": [
       "<matplotlib.figure.Figure at 0x1a1c22d6d8>"
      ]
     },
     "metadata": {},
     "output_type": "display_data"
    }
   ],
   "source": [
    "model_ft = models.resnet18(pretrained=True)\n",
    "# swap out the last layer\n",
    "num_ftrs = model_ft.fc.in_features\n",
    "model_ft.fc = nn.Linear(num_ftrs, 7)\n",
    "\n",
    "criterion = nn.CrossEntropyLoss()\n",
    "\n",
    "# todo: Try adam\n",
    "optimizer_ft = optim.SGD(model_ft.parameters(), lr=0.001, momentum=0.9)\n",
    "\n",
    "exp_lr_scheduler = lr_scheduler.StepLR(optimizer_ft, step_size=7, gamma=0.1)\n",
    "# %%\n",
    "\n",
    "\n",
    "model_ft = train_model(model_ft, criterion, optimizer_ft, exp_lr_scheduler,\n",
    "                       num_epochs=25)\n",
    "\n",
    "visualize_model(model_ft)\n",
    "plt.ioff()\n",
    "plt.show()"
   ]
  },
  {
   "cell_type": "code",
   "execution_count": 30,
   "metadata": {
    "inputHidden": false,
    "outputHidden": false
   },
   "outputs": [],
   "source": [
    "# save model parameters only\n",
    "torch.save(model_ft.state_dict(), 'resnet18_24epochs.pt')\n",
    "# save entire model\n",
    "torch.save(model_ft, 'resnet18_24epochs.model')"
   ]
  }
 ],
 "metadata": {
  "kernel_info": {
   "name": "python3"
  },
  "kernelspec": {
   "display_name": "Python 3",
   "language": "python",
   "name": "python3"
  },
  "language_info": {
   "codemirror_mode": {
    "name": "ipython",
    "version": 3
   },
   "file_extension": ".py",
   "mimetype": "text/x-python",
   "name": "python",
   "nbconvert_exporter": "python",
   "pygments_lexer": "ipython3",
   "version": "3.6.2"
  },
  "nteract": {
   "version": "0.3.4"
  }
 },
 "nbformat": 4,
 "nbformat_minor": 4
}
