{
 "cells": [
  {
   "cell_type": "code",
   "execution_count": 1,
   "metadata": {
    "collapsed": true,
    "inputHidden": false,
    "outputHidden": false
   },
   "outputs": [],
   "source": [
    "import numpy as np\n",
    "import torch\n",
    "import torch.nn as nn\n",
    "import torch.optim as optim\n",
    "from torch.optim import lr_scheduler\n",
    "from torch.autograd import Variable\n",
    "import torchvision\n",
    "from torchvision import datasets, models, transforms, utils\n",
    "import matplotlib.pyplot as plt\n",
    "import time\n",
    "from torch.utils.data import Dataset, DataLoader\n",
    "from tqdm import tqdm\n",
    "from sklearn.metrics import f1_score\n",
    "from sklearn.model_selection import train_test_split\n",
    "from PIL import Image\n",
    "\n",
    "plt.ion()   # interactive mode\n"
   ]
  },
  {
   "cell_type": "code",
   "execution_count": 2,
   "metadata": {
    "collapsed": true,
    "inputHidden": false,
    "outputHidden": false
   },
   "outputs": [],
   "source": [
    "full_mean = 132.35524/255\n",
    "full_std = 44.076332/255"
   ]
  },
  {
   "cell_type": "code",
   "execution_count": 3,
   "metadata": {
    "collapsed": true,
    "inputHidden": false,
    "outputHidden": false
   },
   "outputs": [],
   "source": [
    "class FacesDataset(Dataset):\n",
    "    \"\"\"Faces dataset.\"\"\"\n",
    "\n",
    "    def __init__(self, X, y, transform=None):\n",
    "        self.image_vectors = X\n",
    "        self.targets = y\n",
    "        self.transform = transform\n",
    "\n",
    "    def __len__(self):\n",
    "        return len(self.image_vectors)\n",
    "\n",
    "    def __getitem__(self, idx):\n",
    "\n",
    "        one_dim_avg = self.image_vectors[idx]\n",
    "        one_dim_image = np.reshape(one_dim_avg, (50, 37)).astype('uint8')\n",
    "        im = Image.fromarray(one_dim_image)\n",
    "        imrgb = Image.merge('RGB', (im, im, im))\n",
    "\n",
    "        if self.transform:\n",
    "            imrgb = self.transform(imrgb)\n",
    "\n",
    "        return (imrgb, self.targets[idx])\n"
   ]
  },
  {
   "cell_type": "code",
   "execution_count": 4,
   "metadata": {
    "collapsed": true,
    "inputHidden": false,
    "outputHidden": false
   },
   "outputs": [],
   "source": [
    "# too: add more transforms later\n",
    "data_transforms = {\n",
    "    'train': transforms.Compose([\n",
    "        transforms.Scale(224),\n",
    "        transforms.RandomHorizontalFlip(),\n",
    "        transforms.ToTensor(),\n",
    "        transforms.Normalize(mean=[full_mean, full_mean, full_mean],\n",
    "                             std=[full_std, full_std, full_std])\n",
    "    ]),\n",
    "    'val': transforms.Compose([\n",
    "        transforms.Scale(224),\n",
    "        transforms.ToTensor(),\n",
    "        transforms.Normalize(mean=[full_mean, full_mean, full_mean],\n",
    "                             std=[full_std, full_std, full_std])\n",
    "    ]),\n",
    "}"
   ]
  },
  {
   "cell_type": "code",
   "execution_count": 5,
   "metadata": {
    "collapsed": true,
    "inputHidden": false,
    "outputHidden": false
   },
   "outputs": [],
   "source": [
    "\n",
    "# %% loading the raw data\n",
    "X_train_raw = np.load('X_train.npy')\n",
    "y_train_raw = np.load('y_train.npy')\n",
    "\n",
    "X_train, X_val, y_train, y_val = train_test_split(X_train_raw,\n",
    "                                                  y_train_raw,\n",
    "                                                  random_state=1)\n",
    "\n",
    "faces_datasets = {\n",
    "    'train': FacesDataset(X_train, y_train,\n",
    "                          transform=data_transforms['train']),\n",
    "    'val': FacesDataset(X_val, y_val, transform=data_transforms['val'])\n",
    "}\n",
    "\n",
    "dataloaders = {x: DataLoader(faces_datasets[x], batch_size=4,\n",
    "                             shuffle=True, num_workers=4)\n",
    "               for x in ['train', 'val']}\n",
    "\n",
    "dataset_sizes = {x: len(faces_datasets[x]) for x in ['train', 'val']}\n",
    "use_gpu = torch.cuda.is_available()\n"
   ]
  },
  {
   "cell_type": "code",
   "execution_count": 6,
   "metadata": {
    "collapsed": true,
    "inputHidden": false,
    "outputHidden": false
   },
   "outputs": [],
   "source": [
    "def train_model(model, criterion, optimizer, scheduler, num_epochs=25):\n",
    "    since = time.time()\n",
    "\n",
    "    best_model_wts = model.state_dict()\n",
    "    best_f1 = 0.0\n",
    "\n",
    "    for epoch in range(num_epochs):\n",
    "        print('Epoch {}/{}'.format(epoch, num_epochs - 1))\n",
    "        print('-' * 10)\n",
    "\n",
    "        for phase in ['train', 'val']:\n",
    "            if phase == 'train':\n",
    "                scheduler.step()\n",
    "                model.train(True)\n",
    "            else:\n",
    "                model.train(False)\n",
    "\n",
    "            running_loss = 0.0\n",
    "            running_labels = torch.LongTensor()\n",
    "            running_predictions = torch.LongTensor()\n",
    "\n",
    "            for data in tqdm(dataloaders[phase]):\n",
    "                inputs, labels = data\n",
    "\n",
    "                if use_gpu:\n",
    "                    inputs = Variable(inputs.cuda())\n",
    "                    labels = Variable(labels.cuda())\n",
    "                else:\n",
    "                    inputs, labels = Variable(inputs), Variable(labels)\n",
    "\n",
    "                optimizer.zero_grad()\n",
    "\n",
    "                # forward\n",
    "                outputs = model(inputs)\n",
    "                _, preds = torch.max(outputs.data, 1)\n",
    "                loss = criterion(outputs, labels)\n",
    "\n",
    "                if phase == 'train':\n",
    "                    loss.backward()\n",
    "                    optimizer.step()\n",
    "\n",
    "                running_loss += loss.data[0]\n",
    "                running_labels = torch.cat((running_labels, labels.data), 0)\n",
    "                running_predictions = torch.cat((running_predictions, preds), 0)\n",
    "\n",
    "            epoch_loss = running_loss / dataset_sizes[phase]\n",
    "            epoch_f1 = f1_score(running_labels.numpy(), running_predictions.numpy(), average='macro')\n",
    "\n",
    "            print('{} Loss: {:.4f} F1: {:.4f}'.format(\n",
    "                    phase, epoch_loss, epoch_f1))\n",
    "\n",
    "            if phase == 'val' and epoch_f1 > best_f1:\n",
    "                best_f1 = epoch_f1\n",
    "                best_model_wts = model.state_dict()\n",
    "\n",
    "        print()\n",
    "    time_elasped = time.time() - since\n",
    "    print('Training complete in {:.0f}m {:.0f}s'.format(\n",
    "            time_elasped // 60, time_elasped % 60))\n",
    "    print('Best val F1: {:4f}'.format(best_f1))\n",
    "\n",
    "    model.load_state_dict(best_model_wts)\n",
    "    return model\n"
   ]
  },
  {
   "cell_type": "code",
   "execution_count": 7,
   "metadata": {
    "collapsed": true,
    "inputHidden": false,
    "outputHidden": false
   },
   "outputs": [],
   "source": [
    "def imshow(inp, title=None):\n",
    "    \"\"\"Imshow for Tensor.\"\"\"\n",
    "    inp = inp.numpy().transpose((1, 2, 0))\n",
    "    mean = np.array([full_mean, full_mean, full_mean])\n",
    "    std = np.array([full_std, full_std, full_std])\n",
    "    inp = std * inp + mean\n",
    "    inp = np.clip(inp, 0, 1)\n",
    "    plt.imshow(inp)\n",
    "    if title is not None:\n",
    "        plt.title(title)\n",
    "    plt.pause(0.001)  # pause a bit so that plots are updated\n"
   ]
  },
  {
   "cell_type": "code",
   "execution_count": 8,
   "metadata": {
    "collapsed": true,
    "inputHidden": false,
    "outputHidden": false
   },
   "outputs": [],
   "source": [
    "def visualize_model(model, num_images=6):\n",
    "    images_so_far = 0\n",
    "    fig = plt.figure()\n",
    "\n",
    "    for i, data in enumerate(dataloaders['val']):\n",
    "        inputs, labels = data\n",
    "        if use_gpu:\n",
    "            inputs, labels = Variable(inputs.cuda()), Variable(labels.cuda())\n",
    "        else:\n",
    "            inputs, labels = Variable(inputs), Variable(labels)\n",
    "\n",
    "        outputs = model(inputs)\n",
    "        _, preds = torch.max(outputs.data, 1)\n",
    "\n",
    "        for j in range(inputs.size()[0]):\n",
    "            images_so_far += 1\n",
    "            ax = plt.subplot(num_images//2, 2, images_so_far)\n",
    "            ax.axis('off')\n",
    "            ax.set_title('predicted: {}'.format(preds[j]))\n",
    "            imshow(inputs.cpu().data[j])\n",
    "\n",
    "            if images_so_far == num_images:\n",
    "                return\n"
   ]
  },
  {
   "cell_type": "code",
   "execution_count": 24,
   "metadata": {
    "inputHidden": false,
    "outputHidden": false
   },
   "outputs": [
    {
     "name": "stdout",
     "output_type": "stream",
     "text": [
      "Epoch 0/0\n",
      "----------\n",
      "train Loss: 0.2517 F1: 0.5414\n",
      "val Loss: 0.0621 F1: 0.8777\n",
      "\n",
      "Training complete in 5m 58s\n",
      "Best val F1: 0.877680\n"
     ]
    },
    {
     "data": {
      "image/png": "[encoded data removed]",
      "text/plain": [
       "<matplotlib.figure.Figure at 0x11066d8d0>"
      ]
     },
     "metadata": {},
     "output_type": "display_data"
    }
   ],
   "source": [
    "model_ft = models.resnet18(pretrained=True)\n",
    "# swap out the last layer\n",
    "num_ftrs = model_ft.fc.in_features\n",
    "model_ft.fc = nn.Linear(num_ftrs, 7)\n",
    "\n",
    "criterion = nn.CrossEntropyLoss()\n",
    "\n",
    "# todo: Try adam\n",
    "optimizer_ft = optim.SGD(model_ft.parameters(), lr=0.001, momentum=0.9)\n",
    "\n",
    "exp_lr_scheduler = lr_scheduler.StepLR(optimizer_ft, step_size=7, gamma=0.1)\n",
    "\n",
    "num_epochs = 25\n",
    "\n",
    "model_ft = train_model(model_ft, criterion, optimizer_ft, exp_lr_scheduler,\n",
    "                       num_epochs)\n",
    "\n",
    "visualize_model(model_ft)\n",
    "plt.ioff()\n",
    "plt.show()"
   ]
  },
  {
   "cell_type": "code",
   "execution_count": null,
   "metadata": {
    "collapsed": true
   },
   "outputs": [],
   "source": [
    "# save model parameters only\n",
    "torch.save(model_ft.state_dict(), 'resnet18_{}epochs.pt'.format(num_epochs))\n",
    "\n",
    "# save entire model\n",
    "torch.save(model_ft, 'resnet18_{}epochs.model'.format(num_epochs))"
   ]
  },
  {
   "cell_type": "code",
   "execution_count": 26,
   "metadata": {},
   "outputs": [
    {
     "name": "stderr",
     "output_type": "stream",
     "text": [
      "100%|██████████| 81/81 [00:47<00:00,  1.70it/s]\n"
     ]
    }
   ],
   "source": [
    "# write code to run on test data\n",
    "X_test_raw = np.load('X_test.npy')\n",
    "\n",
    "test_dataset = FacesDataset(X_test_raw, np.zeros(X_test_raw.shape),\n",
    "                            transform=data_transforms['val'])\n",
    "\n",
    "test_dataloader = DataLoader(test_dataset, batch_size=4, num_workers=4)\n",
    "\n",
    "model = torch.load('resnet18_24epochs.model')\n",
    "model.eval()\n",
    "\n",
    "results = np.array([])\n",
    "\n",
    "for i, data in enumerate(tqdm(test_dataloader)):\n",
    "        inputs, _ = data\n",
    "        if use_gpu:\n",
    "            inputs = Variable(inputs.cuda())\n",
    "        else:\n",
    "            inputs = Variable(inputs)\n",
    "\n",
    "        outputs = model(inputs)\n",
    "        _, preds = torch.max(outputs.data, 1)\n",
    "        results = np.append(results, preds.numpy())\n",
    "\n",
    "# save output predictions of test data\n",
    "with open('output.csv', 'w') as f:\n",
    "    f.write('ImageId,PredictedClass\\n')\n",
    "    for i in range(len(X_test_raw)):\n",
    "        f.write('{},{}\\n'.format(i, int(results[i])))"
   ]
  },
  {
   "cell_type": "code",
   "execution_count": null,
   "metadata": {
    "collapsed": true
   },
   "outputs": [],
   "source": [
    "# write code to train on train + val"
   ]
  },
  {
   "cell_type": "code",
   "execution_count": null,
   "metadata": {
    "collapsed": true
   },
   "outputs": [],
   "source": [
    "# write code to train on test again"
   ]
  }
 ],
 "metadata": {
  "kernel_info": {
   "name": "python3"
  },
  "kernelspec": {
   "display_name": "Python 3",
   "language": "python",
   "name": "python3"
  },
  "language_info": {
   "codemirror_mode": {
    "name": "ipython",
    "version": 3
   },
   "file_extension": ".py",
   "mimetype": "text/x-python",
   "name": "python",
   "nbconvert_exporter": "python",
   "pygments_lexer": "ipython3",
   "version": "3.6.2"
  },
  "nteract": {
   "version": "0.3.4"
  }
 },
 "nbformat": 4,
 "nbformat_minor": 4
}
